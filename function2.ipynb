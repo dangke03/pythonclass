{
 "cells": [
  {
   "cell_type": "code",
   "execution_count": 1,
   "metadata": {},
   "outputs": [
    {
     "name": "stdout",
     "output_type": "stream",
     "text": [
      "Hello world!!!\n"
     ]
    }
   ],
   "source": [
    "print(\"Hello world!!!\")"
   ]
  },
  {
   "cell_type": "code",
   "execution_count": null,
   "metadata": {},
   "outputs": [],
   "source": [
    "# 함수의 4가지 형태\n",
    "\n",
    "# 1 input 과 output이 있는 형태(가장 많이 사용되는 형태)\n",
    "# 2. input과 output 모두 없은 형태\n",
    "# 3. unput만 있는 형태\n",
    "# 4. output만 있는 형태"
   ]
  },
  {
   "cell_type": "code",
   "execution_count": null,
   "metadata": {},
   "outputs": [],
   "source": [
    "# 함수의 결과값은 언제나 '하나'라는 특징\n",
    "\n",
    "def add_mul(a, b):\n",
    "    "
   ]
  },
  {
   "cell_type": "code",
   "execution_count": null,
   "metadata": {},
   "outputs": [],
   "source": [
    "# return의 마지막 특징\n",
    "\n",
    "  break와 비슷한 특징이나 ㄱ결과갑산 안보여 줄 수 있다\n",
    "\n",
    "  return   # ()도 않넣어줌\n",
    "\n"
   ]
  },
  {
   "cell_type": "code",
   "execution_count": 3,
   "metadata": {},
   "outputs": [
    {
     "ename": "SyntaxError",
     "evalue": "f-string: empty expression not allowed (2255929362.py, line 5)",
     "output_type": "error",
     "traceback": [
      "\u001b[1;36m  Cell \u001b[1;32mIn [3], line 5\u001b[1;36m\u001b[0m\n\u001b[1;33m    print(f\"나의 이름은 {   }  이고  나이는 {   }   입니다.\")\u001b[0m\n\u001b[1;37m                                               ^\u001b[0m\n\u001b[1;31mSyntaxError\u001b[0m\u001b[1;31m:\u001b[0m f-string: empty expression not allowed\n"
     ]
    }
   ],
   "source": [
    "# 출력하는 방법 : f-스트링   연속해서 매끄럽게 출력하기\n",
    "name =\"홍길동\"\n",
    "age = 18\n",
    "print(f\"나의 이름은   이고  나이는    입니다.\")\n",
    "print(f\"나의 이름은 {   }  이고  나이는 {   }   입니다.\")\n",
    "print(f\"나의 이름은 {name}  이고  나이는 {age}   입니다.\")  # -> 이렇게 한번에 작성하자!!"
   ]
  },
  {
   "cell_type": "code",
   "execution_count": 4,
   "metadata": {},
   "outputs": [
    {
     "name": "stdout",
     "output_type": "stream",
     "text": [
      "1\n"
     ]
    }
   ],
   "source": [
    "# 함수 안에서의 변수 영향 범위 - 전역변수/지역변수 global/local variable\n",
    "# local variable을 쓰는 것이 좋다. 몇만줄이 만들어진다면 global을 쓰면 \n",
    "# 전체에 영향을 미칠 수 있어 위험\n",
    "\n",
    "a = 1\n",
    "def varexam(a):\n",
    "    a += 1  # 함수안에서늬 변수 값은 함수 밖에서는 전혀 영향을 미치지 않는다\n",
    "    return a\n",
    "\n",
    "print(a)"
   ]
  },
  {
   "cell_type": "code",
   "execution_count": 5,
   "metadata": {},
   "outputs": [
    {
     "name": "stdout",
     "output_type": "stream",
     "text": [
      "2\n"
     ]
    }
   ],
   "source": [
    "a = 1\n",
    "def varexam(a):\n",
    "    a += 1 \n",
    "    return a\n",
    "\n",
    "print(varexam(a))   # print(a)로 하면 1을 반환함. 위에 함수안의 a와 하단 a가\n",
    "                    다르기 때문에 varexam(a)를 출력해야 2가 출력됨"
   ]
  },
  {
   "cell_type": "code",
   "execution_count": 6,
   "metadata": {},
   "outputs": [
    {
     "ename": "SyntaxError",
     "evalue": "expected ':' (2722325799.py, line 5)",
     "output_type": "error",
     "traceback": [
      "\u001b[1;36m  Cell \u001b[1;32mIn [6], line 5\u001b[1;36m\u001b[0m\n\u001b[1;33m    else num % 2 != 0:\u001b[0m\n\u001b[1;37m         ^\u001b[0m\n\u001b[1;31mSyntaxError\u001b[0m\u001b[1;31m:\u001b[0m expected ':'\n"
     ]
    }
   ],
   "source": [
    "a = 0\n",
    "def is_odd(num):\n",
    "    if num % 2 == 0:\n",
    "        print(\"짝수입니다.\")\n",
    "    else num % 2 != 0:\n",
    "        print(\"홀수입니다.\"_)"
   ]
  },
  {
   "cell_type": "code",
   "execution_count": 18,
   "metadata": {},
   "outputs": [
    {
     "ename": "SyntaxError",
     "evalue": "invalid syntax (2640533041.py, line 5)",
     "output_type": "error",
     "traceback": [
      "\u001b[1;36m  Cell \u001b[1;32mIn [18], line 5\u001b[1;36m\u001b[0m\n\u001b[1;33m    return = result / len(args)\u001b[0m\n\u001b[1;37m           ^\u001b[0m\n\u001b[1;31mSyntaxError\u001b[0m\u001b[1;31m:\u001b[0m invalid syntax\n"
     ]
    }
   ],
   "source": [
    "def avgnum(*args):\n",
    "    result = 0\n",
    "    for i in args:\n",
    "        result = result + i\n",
    "    return = result / len(args)\n",
    "\n",
    "avgnum(1,2,3,4,5)\n",
    "    "
   ]
  },
  {
   "cell_type": "code",
   "execution_count": 19,
   "metadata": {},
   "outputs": [],
   "source": [
    "# 새로운 text 파일 만들기\n",
    "\n",
    "f = open(\"newfile.txt\", \"w\")\n",
    "f.close()\n"
   ]
  },
  {
   "cell_type": "code",
   "execution_count": 20,
   "metadata": {},
   "outputs": [
    {
     "ename": "TypeError",
     "evalue": "write() argument must be str, not tuple",
     "output_type": "error",
     "traceback": [
      "\u001b[1;31m---------------------------------------------------------------------------\u001b[0m",
      "\u001b[1;31mTypeError\u001b[0m                                 Traceback (most recent call last)",
      "Cell \u001b[1;32mIn [20], line 7\u001b[0m\n\u001b[0;32m      5\u001b[0m \u001b[39mfor\u001b[39;00m i \u001b[39min\u001b[39;00m \u001b[39mrange\u001b[39m(\u001b[39m1\u001b[39m,\u001b[39m11\u001b[39m):\n\u001b[0;32m      6\u001b[0m     data \u001b[39m=\u001b[39m i , \u001b[39m\"\u001b[39m\u001b[39m번째 줄입니다.\u001b[39m\u001b[39m\"\u001b[39m\n\u001b[1;32m----> 7\u001b[0m     f\u001b[39m.\u001b[39;49mwrite(data)\n\u001b[0;32m      9\u001b[0m f\u001b[39m.\u001b[39mclose()\n",
      "\u001b[1;31mTypeError\u001b[0m: write() argument must be str, not tuple"
     ]
    }
   ],
   "source": [
    "# 파일에 내용 넣기\n",
    "\n",
    "f = open(\"newfile2.txt\", \"w\")\n",
    "\n",
    "for i in range(1,11):\n",
    "    data = \"%d \" , \"번째 줄입니다.\"\n",
    "    f.write(data)\n",
    "\n",
    "f.close()\n"
   ]
  },
  {
   "cell_type": "code",
   "execution_count": 22,
   "metadata": {},
   "outputs": [
    {
     "ename": "AttributeError",
     "evalue": "'Cal' object has no attribute 'result'",
     "output_type": "error",
     "traceback": [
      "\u001b[1;31m---------------------------------------------------------------------------\u001b[0m",
      "\u001b[1;31mAttributeError\u001b[0m                            Traceback (most recent call last)",
      "Cell \u001b[1;32mIn [22], line 16\u001b[0m\n\u001b[0;32m     13\u001b[0m cal2 \u001b[39m=\u001b[39m Cal()\n\u001b[0;32m     14\u001b[0m cal3 \u001b[39m=\u001b[39m Cal()\n\u001b[1;32m---> 16\u001b[0m \u001b[39mprint\u001b[39m(cal1\u001b[39m.\u001b[39;49madd(\u001b[39m2\u001b[39;49m))\n\u001b[0;32m     17\u001b[0m \u001b[39mprint\u001b[39m(cal1\u001b[39m.\u001b[39madd(\u001b[39m3\u001b[39m))\n\u001b[0;32m     18\u001b[0m \u001b[39mprint\u001b[39m(cal2\u001b[39m.\u001b[39madd(\u001b[39m1\u001b[39m))\n",
      "Cell \u001b[1;32mIn [22], line 9\u001b[0m, in \u001b[0;36mCal.add\u001b[1;34m(self, num)\u001b[0m\n\u001b[0;32m      8\u001b[0m \u001b[39mdef\u001b[39;00m \u001b[39madd\u001b[39m(\u001b[39mself\u001b[39m,num): \u001b[39m# 메서드(함수가 아닌 매서드)\u001b[39;00m\n\u001b[1;32m----> 9\u001b[0m     \u001b[39mself\u001b[39m\u001b[39m.\u001b[39mresult \u001b[39m+\u001b[39m\u001b[39m=\u001b[39m num\n\u001b[0;32m     10\u001b[0m     \u001b[39mreturn\u001b[39;00m \u001b[39mself\u001b[39m\u001b[39m.\u001b[39mresult\n",
      "\u001b[1;31mAttributeError\u001b[0m: 'Cal' object has no attribute 'result'"
     ]
    }
   ],
   "source": [
    "# OPP\n",
    "\n",
    "class Cal:\n",
    "\n",
    "    def __init__(self):  # 생성자   설계자   #더블언더바(미국에서는 던더바,   한국에서는 덮바?)\n",
    "        self.result = 0\n",
    "\n",
    "    def add(self,num): # 메서드(함수가 아닌 매서드)\n",
    "        self.result += num\n",
    "        return self.result\n",
    "\n",
    "cal1 = Cal()\n",
    "cal2 = Cal()\n",
    "cal3 = Cal()\n",
    "\n",
    "print(cal1.add(2))\n",
    "print(cal1.add(3))\n",
    "print(cal2.add(1))\n",
    "print(cal2.add(2))\n",
    "print(cal3.add(3))\n",
    "print(cal3.add(4))\n",
    "print(cal3.add(5))"
   ]
  },
  {
   "cell_type": "code",
   "execution_count": 23,
   "metadata": {},
   "outputs": [
    {
     "ename": "SyntaxError",
     "evalue": "invalid syntax (3401423169.py, line 3)",
     "output_type": "error",
     "traceback": [
      "\u001b[1;36m  Cell \u001b[1;32mIn [23], line 3\u001b[1;36m\u001b[0m\n\u001b[1;33m    result = first _ second\u001b[0m\n\u001b[1;37m                   ^\u001b[0m\n\u001b[1;31mSyntaxError\u001b[0m\u001b[1;31m:\u001b[0m invalid syntax\n"
     ]
    }
   ],
   "source": [
    "class Cal:\n",
    "    def add(self, first, second):\n",
    "        result = first _ second\n",
    "        return result\n",
    "\n",
    "call = Cal()    # Cal이라는 클래스로 cal1이라는 객체를 찍어낸다\n",
    "print(cal1.add(1,2))"
   ]
  },
  {
   "cell_type": "code",
   "execution_count": null,
   "metadata": {},
   "outputs": [],
   "source": [
    "# 상속받기\n",
    "\n",
    "class MoreCal(Cal):\n",
    "    def sub(self):\n",
    "        result = self.first - self.second\n",
    "        return result\n",
    "\n"
   ]
  },
  {
   "cell_type": "code",
   "execution_count": null,
   "metadata": {},
   "outputs": [],
   "source": [
    "# meythod overloading\n",
    "\n",
    "class Cal():\n",
    "    def add(a,b):\n",
    "        return a+b\n",
    "    def add(a,b,c):\n",
    "        return a+b+c\n",
    "    def add(a,b,c,d):\n",
    "        return a+b+c+d\n",
    "\n",
    "cal1 = Cal()"
   ]
  },
  {
   "cell_type": "code",
   "execution_count": null,
   "metadata": {},
   "outputs": [],
   "source": [
    "class Calculator:\n",
    "    def __init__(self):\n",
    "        self.value = 0\n",
    "\n",
    "    def add(self, val):\n",
    "        self.value += val\n",
    "\n",
    "\n",
    "class UpgradeCalculator(Calculator):\n",
    "    def sub(self):\n",
    "        result = "
   ]
  },
  {
   "cell_type": "code",
   "execution_count": null,
   "metadata": {},
   "outputs": [],
   "source": [
    "class Calculator:\n",
    "    def __init__(self):\n",
    "        self.value = 0\n",
    "\n",
    "    def add(self, val):\n",
    "        self.value += val\n",
    "\n",
    "\n",
    "class MaxLimitCalculator(Calculator):\n",
    "    def add(self, val):\n",
    "        if self.val > 100:\n",
    "           self.val = 100\n",
    "        else:\n",
    "            print(val)\n",
    "\n",
    "\n",
    "    "
   ]
  }
 ],
 "metadata": {
  "kernelspec": {
   "display_name": "Python 3.10.6 64-bit",
   "language": "python",
   "name": "python3"
  },
  "language_info": {
   "codemirror_mode": {
    "name": "ipython",
    "version": 3
   },
   "file_extension": ".py",
   "mimetype": "text/x-python",
   "name": "python",
   "nbconvert_exporter": "python",
   "pygments_lexer": "ipython3",
   "version": "3.10.6"
  },
  "orig_nbformat": 4,
  "vscode": {
   "interpreter": {
    "hash": "be042be69eb07c0fcc9843e1c670e24d23c76b83e5f6982cc023fb319a955525"
   }
  }
 },
 "nbformat": 4,
 "nbformat_minor": 2
}
